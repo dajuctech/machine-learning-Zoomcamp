{
 "cells": [
  {
   "cell_type": "markdown",
   "id": "ac6cc5fd-1b29-4c97-afa2-f2399820d89e",
   "metadata": {},
   "source": [
    "### Imports and Setup"
   ]
  },
  {
   "cell_type": "code",
   "execution_count": 14,
   "id": "829b4e2c-2b77-4d7e-a8b3-a388e3dc9c0f",
   "metadata": {},
   "outputs": [
    {
     "name": "stdout",
     "output_type": "stream",
     "text": [
      "All libraries imported successfully!\n"
     ]
    }
   ],
   "source": [
    "import pandas as pd\n",
    "import numpy as np\n",
    "import matplotlib.pyplot as plt\n",
    "from sklearn.model_selection import train_test_split, KFold\n",
    "from sklearn.feature_extraction import DictVectorizer\n",
    "from sklearn.linear_model import LogisticRegression\n",
    "from sklearn.metrics import roc_auc_score, precision_recall_curve, f1_score\n",
    "import warnings\n",
    "warnings.filterwarnings('ignore')\n",
    "\n",
    "print(\"All libraries imported successfully!\")"
   ]
  },
  {
   "cell_type": "markdown",
   "id": "c4cd3cf8-8ee2-4634-8a02-fdd68e526279",
   "metadata": {},
   "source": [
    "### Load and Explore Dataset"
   ]
  },
  {
   "cell_type": "code",
   "execution_count": 15,
   "id": "98405883-ef4a-4169-a41d-17a48498fad6",
   "metadata": {},
   "outputs": [
    {
     "name": "stdout",
     "output_type": "stream",
     "text": [
      "Dataset shape: (1462, 9)\n",
      "Columns: ['lead_source', 'industry', 'number_of_courses_viewed', 'annual_income', 'employment_status', 'location', 'interaction_count', 'lead_score', 'converted']\n",
      "\n",
      "First 5 rows:\n"
     ]
    },
    {
     "data": {
      "text/html": [
       "<div>\n",
       "<style scoped>\n",
       "    .dataframe tbody tr th:only-of-type {\n",
       "        vertical-align: middle;\n",
       "    }\n",
       "\n",
       "    .dataframe tbody tr th {\n",
       "        vertical-align: top;\n",
       "    }\n",
       "\n",
       "    .dataframe thead th {\n",
       "        text-align: right;\n",
       "    }\n",
       "</style>\n",
       "<table border=\"1\" class=\"dataframe\">\n",
       "  <thead>\n",
       "    <tr style=\"text-align: right;\">\n",
       "      <th></th>\n",
       "      <th>lead_source</th>\n",
       "      <th>industry</th>\n",
       "      <th>number_of_courses_viewed</th>\n",
       "      <th>annual_income</th>\n",
       "      <th>employment_status</th>\n",
       "      <th>location</th>\n",
       "      <th>interaction_count</th>\n",
       "      <th>lead_score</th>\n",
       "      <th>converted</th>\n",
       "    </tr>\n",
       "  </thead>\n",
       "  <tbody>\n",
       "    <tr>\n",
       "      <th>0</th>\n",
       "      <td>paid_ads</td>\n",
       "      <td>NaN</td>\n",
       "      <td>1</td>\n",
       "      <td>79450.0</td>\n",
       "      <td>unemployed</td>\n",
       "      <td>south_america</td>\n",
       "      <td>4</td>\n",
       "      <td>0.94</td>\n",
       "      <td>1</td>\n",
       "    </tr>\n",
       "    <tr>\n",
       "      <th>1</th>\n",
       "      <td>social_media</td>\n",
       "      <td>retail</td>\n",
       "      <td>1</td>\n",
       "      <td>46992.0</td>\n",
       "      <td>employed</td>\n",
       "      <td>south_america</td>\n",
       "      <td>1</td>\n",
       "      <td>0.80</td>\n",
       "      <td>0</td>\n",
       "    </tr>\n",
       "    <tr>\n",
       "      <th>2</th>\n",
       "      <td>events</td>\n",
       "      <td>healthcare</td>\n",
       "      <td>5</td>\n",
       "      <td>78796.0</td>\n",
       "      <td>unemployed</td>\n",
       "      <td>australia</td>\n",
       "      <td>3</td>\n",
       "      <td>0.69</td>\n",
       "      <td>1</td>\n",
       "    </tr>\n",
       "    <tr>\n",
       "      <th>3</th>\n",
       "      <td>paid_ads</td>\n",
       "      <td>retail</td>\n",
       "      <td>2</td>\n",
       "      <td>83843.0</td>\n",
       "      <td>NaN</td>\n",
       "      <td>australia</td>\n",
       "      <td>1</td>\n",
       "      <td>0.87</td>\n",
       "      <td>0</td>\n",
       "    </tr>\n",
       "    <tr>\n",
       "      <th>4</th>\n",
       "      <td>referral</td>\n",
       "      <td>education</td>\n",
       "      <td>3</td>\n",
       "      <td>85012.0</td>\n",
       "      <td>self_employed</td>\n",
       "      <td>europe</td>\n",
       "      <td>3</td>\n",
       "      <td>0.62</td>\n",
       "      <td>1</td>\n",
       "    </tr>\n",
       "  </tbody>\n",
       "</table>\n",
       "</div>"
      ],
      "text/plain": [
       "    lead_source    industry  number_of_courses_viewed  annual_income  \\\n",
       "0      paid_ads         NaN                         1        79450.0   \n",
       "1  social_media      retail                         1        46992.0   \n",
       "2        events  healthcare                         5        78796.0   \n",
       "3      paid_ads      retail                         2        83843.0   \n",
       "4      referral   education                         3        85012.0   \n",
       "\n",
       "  employment_status       location  interaction_count  lead_score  converted  \n",
       "0        unemployed  south_america                  4        0.94          1  \n",
       "1          employed  south_america                  1        0.80          0  \n",
       "2        unemployed      australia                  3        0.69          1  \n",
       "3               NaN      australia                  1        0.87          0  \n",
       "4     self_employed         europe                  3        0.62          1  "
      ]
     },
     "execution_count": 15,
     "metadata": {},
     "output_type": "execute_result"
    }
   ],
   "source": [
    "# Load the lead scoring dataset\n",
    "df = pd.read_csv('https://raw.githubusercontent.com/alexeygrigorev/datasets/master/course_lead_scoring.csv')\n",
    "\n",
    "print(f\"Dataset shape: {df.shape}\")\n",
    "print(f\"Columns: {list(df.columns)}\")\n",
    "print(\"\\nFirst 5 rows:\")\n",
    "df.head()"
   ]
  },
  {
   "cell_type": "markdown",
   "id": "7c715823-4fdb-41aa-85c5-9150627da7a7",
   "metadata": {},
   "source": [
    "### Data Preparation"
   ]
  },
  {
   "cell_type": "code",
   "execution_count": 19,
   "id": "eca85b93-0165-4b82-b36c-ef015d8abd88",
   "metadata": {},
   "outputs": [
    {
     "name": "stdout",
     "output_type": "stream",
     "text": [
      "Dataset info:\n",
      "<class 'pandas.core.frame.DataFrame'>\n",
      "RangeIndex: 1462 entries, 0 to 1461\n",
      "Data columns (total 9 columns):\n",
      " #   Column                    Non-Null Count  Dtype  \n",
      "---  ------                    --------------  -----  \n",
      " 0   lead_source               1334 non-null   object \n",
      " 1   industry                  1328 non-null   object \n",
      " 2   number_of_courses_viewed  1462 non-null   int64  \n",
      " 3   annual_income             1281 non-null   float64\n",
      " 4   employment_status         1362 non-null   object \n",
      " 5   location                  1399 non-null   object \n",
      " 6   interaction_count         1462 non-null   int64  \n",
      " 7   lead_score                1462 non-null   float64\n",
      " 8   converted                 1462 non-null   int64  \n",
      "dtypes: float64(2), int64(3), object(4)\n",
      "memory usage: 102.9+ KB\n",
      "\n",
      "Target distribution:\n",
      "converted\n",
      "1    905\n",
      "0    557\n",
      "Name: count, dtype: int64\n",
      "Conversion rate: 0.619\n",
      "\n",
      "Missing values per column:\n",
      "lead_source: 128\n",
      "industry: 134\n",
      "annual_income: 181\n",
      "employment_status: 100\n",
      "location: 63\n",
      "\n",
      "Categorical features: ['lead_source', 'industry', 'employment_status', 'location']\n",
      "Numerical features: ['number_of_courses_viewed', 'annual_income', 'interaction_count', 'lead_score']\n",
      "Missing values after treatment: 0\n"
     ]
    }
   ],
   "source": [
    "print(\"Dataset info:\")\n",
    "df.info()\n",
    "\n",
    "print(f\"\\nTarget distribution:\")\n",
    "print(df['converted'].value_counts())\n",
    "print(f\"Conversion rate: {df['converted'].mean():.3f}\")\n",
    "\n",
    "# Check for missing values and handle them\n",
    "missing_counts = df.isnull().sum()\n",
    "print(f\"\\nMissing values per column:\")\n",
    "for col, count in missing_counts.items():\n",
    "    if count > 0:\n",
    "        print(f\"{col}: {count}\")\n",
    "\n",
    "# Identify feature types\n",
    "categorical_cols = df.select_dtypes(include=['object']).columns.tolist()\n",
    "numerical_cols = df.select_dtypes(include=['int64', 'float64']).columns.tolist()\n",
    "\n",
    "if 'converted' in categorical_cols:\n",
    "    categorical_cols.remove('converted')\n",
    "if 'converted' in numerical_cols:\n",
    "    numerical_cols.remove('converted')\n",
    "\n",
    "print(f\"\\nCategorical features: {categorical_cols}\")\n",
    "print(f\"Numerical features: {numerical_cols}\")\n",
    "\n",
    "# Handle missing values\n",
    "df_clean = df.copy()\n",
    "for col in categorical_cols:\n",
    "    df_clean[col] = df_clean[col].fillna('NA')\n",
    "for col in numerical_cols:\n",
    "    df_clean[col] = df_clean[col].fillna(0.0)\n",
    "\n",
    "print(f\"Missing values after treatment: {df_clean.isnull().sum().sum()}\")"
   ]
  },
  {
   "cell_type": "markdown",
   "id": "7b099339-9091-4258-8ce5-af9a017ca7ca",
   "metadata": {},
   "source": [
    "### Data Splitting with random_state=1"
   ]
  },
  {
   "cell_type": "code",
   "execution_count": 20,
   "id": "ddf60855-928c-47d8-9e2b-ea3fba5eff98",
   "metadata": {},
   "outputs": [
    {
     "name": "stdout",
     "output_type": "stream",
     "text": [
      "Training: 876 (59.9%)\n",
      "Validation: 293 (20.0%)\n",
      "Test: 293 (20.0%)\n",
      "Full train for CV: 1169 (80.0%)\n"
     ]
    }
   ],
   "source": [
    "# Split data as specified: 60%/20%/20% with random_state=1\n",
    "X = df_clean.drop('converted', axis=1)\n",
    "y = df_clean['converted']\n",
    "\n",
    "X_temp, X_test, y_temp, y_test = train_test_split(\n",
    "    X, y, test_size=0.2, random_state=1, stratify=y\n",
    ")\n",
    "\n",
    "X_train, X_val, y_train, y_val = train_test_split(\n",
    "    X_temp, y_temp, test_size=0.25, random_state=1, stratify=y_temp\n",
    ")\n",
    "\n",
    "# Create full training set for CV\n",
    "df_full_train = pd.concat([\n",
    "    pd.concat([X_train, y_train], axis=1),\n",
    "    pd.concat([X_val, y_val], axis=1)\n",
    "], axis=0).reset_index(drop=True)\n",
    "\n",
    "print(f\"Training: {len(X_train)} ({len(X_train)/len(X):.1%})\")\n",
    "print(f\"Validation: {len(X_val)} ({len(X_val)/len(X):.1%})\")\n",
    "print(f\"Test: {len(X_test)} ({len(X_test)/len(X):.1%})\")\n",
    "print(f\"Full train for CV: {len(df_full_train)} ({len(df_full_train)/len(X):.1%})\")"
   ]
  },
  {
   "cell_type": "markdown",
   "id": "a53914fb-546b-47eb-988d-f652b5f02c64",
   "metadata": {},
   "source": [
    "### Q1 - ROC AUC Feature Importance"
   ]
  },
  {
   "cell_type": "code",
   "execution_count": 21,
   "id": "e522cd5a-9a1e-4525-8a4b-c1c57e478359",
   "metadata": {},
   "outputs": [
    {
     "name": "stdout",
     "output_type": "stream",
     "text": [
      "==================================================\n",
      "Q1: ROC AUC Feature Importance\n",
      "==================================================\n",
      "lead_score: 0.6178\n",
      "number_of_courses_viewed: 0.7519\n",
      "interaction_count: 0.7057\n",
      "annual_income: 0.5675\n",
      "\n",
      "AUC scores summary:\n",
      "number_of_courses_viewed: 0.7519\n",
      "interaction_count: 0.7057\n",
      "lead_score: 0.6178\n",
      "annual_income: 0.5675\n",
      "\n",
      "✅ Q1 Answer: number_of_courses_viewed (AUC: 0.7519)\n"
     ]
    }
   ],
   "source": [
    "# Q1: ROC AUC feature importance for numerical variables\n",
    "print(\"=\"*50)\n",
    "print(\"Q1: ROC AUC Feature Importance\")\n",
    "print(\"=\"*50)\n",
    "\n",
    "features_to_analyze = ['lead_score', 'number_of_courses_viewed', 'interaction_count', 'annual_income']\n",
    "auc_scores = {}\n",
    "\n",
    "for feature in features_to_analyze:\n",
    "    if feature in X_train.columns:\n",
    "        feature_values = X_train[feature]\n",
    "        auc = roc_auc_score(y_train, feature_values)\n",
    "        \n",
    "        # If AUC < 0.5, invert the variable\n",
    "        if auc < 0.5:\n",
    "            inverted_values = -feature_values\n",
    "            auc_inverted = roc_auc_score(y_train, inverted_values)\n",
    "            auc_scores[feature] = auc_inverted\n",
    "            print(f\"{feature}: original={auc:.4f}, inverted={auc_inverted:.4f} ✓\")\n",
    "        else:\n",
    "            auc_scores[feature] = auc\n",
    "            print(f\"{feature}: {auc:.4f}\")\n",
    "\n",
    "print(f\"\\nAUC scores summary:\")\n",
    "for feature, score in sorted(auc_scores.items(), key=lambda x: x[1], reverse=True):\n",
    "    print(f\"{feature}: {score:.4f}\")\n",
    "\n",
    "best_feature = max(auc_scores.items(), key=lambda x: x[1])\n",
    "print(f\"\\n✅ Q1 Answer: {best_feature[0]} (AUC: {best_feature[1]:.4f})\")\n",
    "\n",
    "q1_answer = best_feature[0]"
   ]
  },
  {
   "cell_type": "markdown",
   "id": "c2bf99f2-1211-459d-84b0-60838e22c25b",
   "metadata": {},
   "source": [
    "### Q2 - Train Model and Calculate AUC"
   ]
  },
  {
   "cell_type": "code",
   "execution_count": 22,
   "id": "b7d4138d-91b2-4527-afc9-c7e5422c1719",
   "metadata": {},
   "outputs": [
    {
     "name": "stdout",
     "output_type": "stream",
     "text": [
      "==================================================\n",
      "Q2: Model Training and AUC\n",
      "==================================================\n",
      "Features after encoding: 31\n",
      "Validation AUC: 0.900158\n",
      "Rounded to 3 digits: 0.9\n",
      "\n",
      "✅ Q2 Answer: 0.9\n"
     ]
    }
   ],
   "source": [
    "# Q2: Train logistic regression and get validation AUC\n",
    "print(\"=\"*50)\n",
    "print(\"Q2: Model Training and AUC\")\n",
    "print(\"=\"*50)\n",
    "\n",
    "# Convert to dictionaries for DictVectorizer\n",
    "train_dicts = X_train.to_dict(orient='records')\n",
    "val_dicts = X_val.to_dict(orient='records')\n",
    "\n",
    "# One-hot encoding\n",
    "dv = DictVectorizer(sparse=False)\n",
    "X_train_encoded = dv.fit_transform(train_dicts)\n",
    "X_val_encoded = dv.transform(val_dicts)\n",
    "\n",
    "print(f\"Features after encoding: {X_train_encoded.shape[1]}\")\n",
    "\n",
    "# Train model with specified parameters\n",
    "model = LogisticRegression(solver='liblinear', C=1.0, max_iter=1000)\n",
    "model.fit(X_train_encoded, y_train)\n",
    "\n",
    "# Get probabilities and calculate AUC\n",
    "y_val_pred_proba = model.predict_proba(X_val_encoded)[:, 1]\n",
    "val_auc = roc_auc_score(y_val, y_val_pred_proba)\n",
    "\n",
    "print(f\"Validation AUC: {val_auc:.6f}\")\n",
    "print(f\"Rounded to 3 digits: {round(val_auc, 3)}\")\n",
    "\n",
    "print(f\"\\n✅ Q2 Answer: {round(val_auc, 3)}\")\n",
    "\n",
    "q2_answer = round(val_auc, 3)"
   ]
  },
  {
   "cell_type": "markdown",
   "id": "7bf63763-cc0e-4928-aaea-9bc2c32fb9f4",
   "metadata": {},
   "source": [
    "### Q3 - Precision and Recall Intersection"
   ]
  },
  {
   "cell_type": "code",
   "execution_count": 23,
   "id": "4009b252-cdd3-46aa-b2ec-ca688f72d146",
   "metadata": {},
   "outputs": [
    {
     "name": "stdout",
     "output_type": "stream",
     "text": [
      "==================================================\n",
      "Q2: Model Training and AUC\n",
      "==================================================\n",
      "Features after encoding: 31\n",
      "Validation AUC: 0.900158\n",
      "Rounded to 3 digits: 0.9\n",
      "\n",
      "✅ Q2 Answer: 0.9\n"
     ]
    }
   ],
   "source": [
    "# Q2: Train logistic regression and get validation AUC\n",
    "print(\"=\"*50)\n",
    "print(\"Q2: Model Training and AUC\")\n",
    "print(\"=\"*50)\n",
    "\n",
    "# Convert to dictionaries for DictVectorizer\n",
    "train_dicts = X_train.to_dict(orient='records')\n",
    "val_dicts = X_val.to_dict(orient='records')\n",
    "\n",
    "# One-hot encoding\n",
    "dv = DictVectorizer(sparse=False)\n",
    "X_train_encoded = dv.fit_transform(train_dicts)\n",
    "X_val_encoded = dv.transform(val_dicts)\n",
    "\n",
    "print(f\"Features after encoding: {X_train_encoded.shape[1]}\")\n",
    "\n",
    "# Train model with specified parameters\n",
    "model = LogisticRegression(solver='liblinear', C=1.0, max_iter=1000)\n",
    "model.fit(X_train_encoded, y_train)\n",
    "\n",
    "# Get probabilities and calculate AUC\n",
    "y_val_pred_proba = model.predict_proba(X_val_encoded)[:, 1]\n",
    "val_auc = roc_auc_score(y_val, y_val_pred_proba)\n",
    "\n",
    "print(f\"Validation AUC: {val_auc:.6f}\")\n",
    "print(f\"Rounded to 3 digits: {round(val_auc, 3)}\")\n",
    "\n",
    "print(f\"\\n✅ Q2 Answer: {round(val_auc, 3)}\")\n",
    "\n",
    "q2_answer = round(val_auc, 3)"
   ]
  },
  {
   "cell_type": "markdown",
   "id": "46aaa732-d38f-4259-b269-13ae338f1c68",
   "metadata": {},
   "source": [
    "### Q3 - Precision and Recall Intersection"
   ]
  },
  {
   "cell_type": "code",
   "execution_count": 24,
   "id": "4e56dae0-23b3-48b2-a51d-dd24fe9c6d8c",
   "metadata": {},
   "outputs": [
    {
     "name": "stdout",
     "output_type": "stream",
     "text": [
      "==================================================\n",
      "Q3: Precision and Recall Intersection\n",
      "==================================================\n",
      "Precision-Recall intersection at threshold: 0.810\n",
      "Precision: 0.000\n",
      "Recall: 0.000\n",
      "Difference: 0.000000\n",
      "\n",
      "✅ Q3 Answer: 0.745 (closest to 0.810)\n"
     ]
    }
   ],
   "source": [
    "# Q3: Find where precision and recall curves intersect\n",
    "print(\"=\"*50)\n",
    "print(\"Q3: Precision and Recall Intersection\")\n",
    "print(\"=\"*50)\n",
    "\n",
    "thresholds = np.arange(0.0, 1.01, 0.01)\n",
    "precisions = []\n",
    "recalls = []\n",
    "\n",
    "for threshold in thresholds:\n",
    "    y_pred = (y_val_pred_proba >= threshold).astype(int)\n",
    "    \n",
    "    tp = ((y_pred == 1) & (y_val == 1)).sum()\n",
    "    fp = ((y_pred == 1) & (y_val == 0)).sum()\n",
    "    fn = ((y_pred == 0) & (y_val == 1)).sum()\n",
    "    \n",
    "    precision = tp / (tp + fp) if (tp + fp) > 0 else 0\n",
    "    recall = tp / (tp + fn) if (tp + fn) > 0 else 0\n",
    "    \n",
    "    precisions.append(precision)\n",
    "    recalls.append(recall)\n",
    "\n",
    "precisions = np.array(precisions)\n",
    "recalls = np.array(recalls)\n",
    "\n",
    "# Find intersection\n",
    "differences = np.abs(precisions - recalls)\n",
    "intersection_idx = np.argmin(differences)\n",
    "intersection_threshold = thresholds[intersection_idx]\n",
    "\n",
    "print(f\"Precision-Recall intersection at threshold: {intersection_threshold:.3f}\")\n",
    "print(f\"Precision: {precisions[intersection_idx]:.3f}\")\n",
    "print(f\"Recall: {recalls[intersection_idx]:.3f}\")\n",
    "print(f\"Difference: {differences[intersection_idx]:.6f}\")\n",
    "\n",
    "# Check against options: 0.145, 0.345, 0.545, 0.745\n",
    "options_q3 = [0.145, 0.345, 0.545, 0.745]\n",
    "closest_q3 = min(options_q3, key=lambda x: abs(x - intersection_threshold))\n",
    "\n",
    "print(f\"\\n✅ Q3 Answer: {closest_q3} (closest to {intersection_threshold:.3f})\")\n",
    "\n",
    "q3_answer = closest_q3"
   ]
  },
  {
   "cell_type": "markdown",
   "id": "c263a702-9cd0-4bce-b3cd-fa8d80d058fd",
   "metadata": {},
   "source": [
    "### Q4 - F1 Score Maximum"
   ]
  },
  {
   "cell_type": "code",
   "execution_count": 25,
   "id": "4dc87ee0-1310-49cf-aab3-8842c9daa9a9",
   "metadata": {},
   "outputs": [
    {
     "name": "stdout",
     "output_type": "stream",
     "text": [
      "==================================================\n",
      "Q4: F1 Score Optimization\n",
      "==================================================\n",
      "Maximum F1 score: 0.8629\n",
      "At threshold: 0.600\n",
      "\n",
      "✅ Q4 Answer: 0.54 (closest to 0.600)\n"
     ]
    }
   ],
   "source": [
    "# Q4: Find threshold with maximum F1 score\n",
    "print(\"=\"*50)\n",
    "print(\"Q4: F1 Score Optimization\")\n",
    "print(\"=\"*50)\n",
    "\n",
    "f1_scores = []\n",
    "\n",
    "for i, threshold in enumerate(thresholds):\n",
    "    precision = precisions[i]\n",
    "    recall = recalls[i]\n",
    "    \n",
    "    if (precision + recall) > 0:\n",
    "        f1 = 2 * precision * recall / (precision + recall)\n",
    "    else:\n",
    "        f1 = 0\n",
    "    \n",
    "    f1_scores.append(f1)\n",
    "\n",
    "f1_scores = np.array(f1_scores)\n",
    "\n",
    "# Find maximum F1\n",
    "max_f1_idx = np.argmax(f1_scores)\n",
    "max_f1_threshold = thresholds[max_f1_idx]\n",
    "max_f1_score = f1_scores[max_f1_idx]\n",
    "\n",
    "print(f\"Maximum F1 score: {max_f1_score:.4f}\")\n",
    "print(f\"At threshold: {max_f1_threshold:.3f}\")\n",
    "\n",
    "# Check against options: 0.14, 0.34, 0.54, 0.74\n",
    "options_q4 = [0.14, 0.34, 0.54, 0.74]\n",
    "closest_q4 = min(options_q4, key=lambda x: abs(x - max_f1_threshold))\n",
    "\n",
    "print(f\"\\n✅ Q4 Answer: {closest_q4} (closest to {max_f1_threshold:.3f})\")\n",
    "\n",
    "q4_answer = closest_q4"
   ]
  },
  {
   "cell_type": "markdown",
   "id": "2bbdb9c2-3097-4f62-a4fc-e2cf870889c8",
   "metadata": {},
   "source": [
    "### Q4 - F1 Score Analysis"
   ]
  },
  {
   "cell_type": "code",
   "execution_count": 11,
   "id": "bd6943e9-67c0-40f3-8604-0f8fc0a3e902",
   "metadata": {},
   "outputs": [
    {
     "name": "stdout",
     "output_type": "stream",
     "text": [
      "\n",
      "Q4: Computing F1 scores\n",
      "Maximum F1 score: 0.8629\n",
      "At threshold: 0.600\n"
     ]
    },
    {
     "data": {
      "image/png": "[encoded data removed]",
      "text/plain": [
       "<Figure size 1000x600 with 1 Axes>"
      ]
     },
     "metadata": {},
     "output_type": "display_data"
    },
    {
     "name": "stdout",
     "output_type": "stream",
     "text": [
      "\n",
      "✓ Q4 Answer: 0.60\n"
     ]
    }
   ],
   "source": [
    "# Q4: Calculate F1 score for all thresholds\n",
    "print(\"\\nQ4: Computing F1 scores\")\n",
    "\n",
    "f1_scores = []\n",
    "\n",
    "for i, threshold in enumerate(thresholds):\n",
    "    precision = precisions[i]\n",
    "    recall = recalls[i]\n",
    "    \n",
    "    # Calculate F1 score: F1 = 2 * P * R / (P + R)\n",
    "    if (precision + recall) > 0:\n",
    "        f1 = 2 * precision * recall / (precision + recall)\n",
    "    else:\n",
    "        f1 = 0\n",
    "    \n",
    "    f1_scores.append(f1)\n",
    "\n",
    "f1_scores = np.array(f1_scores)\n",
    "\n",
    "# Find threshold with maximum F1 score\n",
    "max_f1_idx = np.argmax(f1_scores)\n",
    "max_f1_threshold = thresholds[max_f1_idx]\n",
    "max_f1_score = f1_scores[max_f1_idx]\n",
    "\n",
    "print(f\"Maximum F1 score: {max_f1_score:.4f}\")\n",
    "print(f\"At threshold: {max_f1_threshold:.3f}\")\n",
    "\n",
    "# Plot F1 score\n",
    "plt.figure(figsize=(10, 6))\n",
    "plt.plot(thresholds, f1_scores, label='F1 Score', color='green', linewidth=2)\n",
    "plt.axvline(x=max_f1_threshold, color='red', linestyle='--', alpha=0.7, label=f'Max F1 at {max_f1_threshold:.3f}')\n",
    "plt.xlabel('Threshold')\n",
    "plt.ylabel('F1 Score')\n",
    "plt.title('F1 Score vs Threshold')\n",
    "plt.legend()\n",
    "plt.grid(True, alpha=0.3)\n",
    "plt.show()\n",
    "\n",
    "print(f\"\\n✓ Q4 Answer: {max_f1_threshold:.2f}\")"
   ]
  },
  {
   "cell_type": "markdown",
   "id": "9b2d2d13-312e-42db-9dd7-c51dd3672f43",
   "metadata": {},
   "source": [
    "### Q5 - 5-Fold Cross Validation"
   ]
  },
  {
   "cell_type": "code",
   "execution_count": 26,
   "id": "a59a3dee-66cb-4215-8890-c02b8b4aed46",
   "metadata": {},
   "outputs": [
    {
     "name": "stdout",
     "output_type": "stream",
     "text": [
      "==================================================\n",
      "Q5: 5-Fold Cross Validation\n",
      "==================================================\n",
      "Fold 1:\n",
      "  AUC: 0.818095\n",
      "Fold 2:\n",
      "  AUC: 0.835714\n",
      "Fold 3:\n",
      "  AUC: 0.799148\n",
      "Fold 4:\n",
      "  AUC: 0.829971\n",
      "Fold 5:\n",
      "  AUC: 0.814202\n",
      "\n",
      "CV Results:\n",
      "Mean AUC: 0.819426\n",
      "Std AUC: 0.012781\n",
      "\n",
      "✅ Q5 Answer: 0.006 (closest to 0.012781)\n"
     ]
    }
   ],
   "source": [
    "# Q5: 5-Fold Cross Validation standard deviation\n",
    "print(\"=\"*50)\n",
    "print(\"Q5: 5-Fold Cross Validation\")\n",
    "print(\"=\"*50)\n",
    "\n",
    "kfold = KFold(n_splits=5, shuffle=True, random_state=1)\n",
    "\n",
    "X_full_train = df_full_train.drop('converted', axis=1)\n",
    "y_full_train = df_full_train['converted']\n",
    "\n",
    "cv_scores = []\n",
    "\n",
    "for fold, (train_idx, val_idx) in enumerate(kfold.split(X_full_train)):\n",
    "    print(f\"Fold {fold + 1}:\")\n",
    "    \n",
    "    X_fold_train, X_fold_val = X_full_train.iloc[train_idx], X_full_train.iloc[val_idx]\n",
    "    y_fold_train, y_fold_val = y_full_train.iloc[train_idx], y_full_train.iloc[val_idx]\n",
    "    \n",
    "    # Encode features\n",
    "    fold_train_dicts = X_fold_train.to_dict(orient='records')\n",
    "    fold_val_dicts = X_fold_val.to_dict(orient='records')\n",
    "    \n",
    "    dv_fold = DictVectorizer(sparse=False)\n",
    "    X_fold_train_encoded = dv_fold.fit_transform(fold_train_dicts)\n",
    "    X_fold_val_encoded = dv_fold.transform(fold_val_dicts)\n",
    "    \n",
    "    # Train and evaluate\n",
    "    model_fold = LogisticRegression(solver='liblinear', C=1.0, max_iter=1000)\n",
    "    model_fold.fit(X_fold_train_encoded, y_fold_train)\n",
    "    \n",
    "    y_fold_pred_proba = model_fold.predict_proba(X_fold_val_encoded)[:, 1]\n",
    "    fold_auc = roc_auc_score(y_fold_val, y_fold_pred_proba)\n",
    "    \n",
    "    cv_scores.append(fold_auc)\n",
    "    print(f\"  AUC: {fold_auc:.6f}\")\n",
    "\n",
    "cv_scores = np.array(cv_scores)\n",
    "cv_std = cv_scores.std()\n",
    "\n",
    "print(f\"\\nCV Results:\")\n",
    "print(f\"Mean AUC: {cv_scores.mean():.6f}\")\n",
    "print(f\"Std AUC: {cv_std:.6f}\")\n",
    "\n",
    "# Check against options: 0.0001, 0.006, 0.06, 0.36\n",
    "options_q5 = [0.0001, 0.006, 0.06, 0.36]\n",
    "closest_q5 = min(options_q5, key=lambda x: abs(x - cv_std))\n",
    "\n",
    "print(f\"\\n✅ Q5 Answer: {closest_q5} (closest to {cv_std:.6f})\")\n",
    "\n",
    "q5_answer = closest_q5"
   ]
  },
  {
   "cell_type": "code",
   "execution_count": null,
   "id": "6950b1b7-ad14-48fa-9759-fc22259ba657",
   "metadata": {},
   "outputs": [],
   "source": []
  }
 ],
 "metadata": {
  "kernelspec": {
   "display_name": "Python 3 (ipykernel)",
   "language": "python",
   "name": "python3"
  },
  "language_info": {
   "codemirror_mode": {
    "name": "ipython",
    "version": 3
   },
   "file_extension": ".py",
   "mimetype": "text/x-python",
   "name": "python",
   "nbconvert_exporter": "python",
   "pygments_lexer": "ipython3",
   "version": "3.13.7"
  }
 },
 "nbformat": 4,
 "nbformat_minor": 5
}
