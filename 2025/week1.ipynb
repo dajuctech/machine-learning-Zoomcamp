{
 "cells": [
  {
   "cell_type": "markdown",
   "id": "494db19c-43ef-409d-9a33-cc91e3bd270b",
   "metadata": {},
   "source": [
    "# ML Zoomcamp - Week 1 Homework"
   ]
  },
  {
   "cell_type": "markdown",
   "id": "eff10188-b86a-49ee-9d8f-da7c8f4611db",
   "metadata": {},
   "source": [
    "## Setup"
   ]
  },
  {
   "cell_type": "code",
   "execution_count": 1,
   "id": "f016b326-9026-4283-ba35-d9c03513e0df",
   "metadata": {},
   "outputs": [],
   "source": [
    "import pandas as pd\n",
    "import numpy as np"
   ]
  },
  {
   "cell_type": "markdown",
   "id": "d6ebbc26-5f4c-46c2-9761-acd570e274f4",
   "metadata": {},
   "source": [
    "## Q1. Pandas Version"
   ]
  },
  {
   "cell_type": "code",
   "execution_count": 2,
   "id": "20608d6d-fa8c-4b0e-aa48-6fa39b193332",
   "metadata": {},
   "outputs": [
    {
     "data": {
      "text/plain": [
       "'2.3.2'"
      ]
     },
     "execution_count": 2,
     "metadata": {},
     "output_type": "execute_result"
    }
   ],
   "source": [
    "pd.__version__"
   ]
  },
  {
   "cell_type": "markdown",
   "id": "6e5ae3d9-b7f4-447b-bd5c-155ad952383c",
   "metadata": {},
   "source": [
    "## Load Data"
   ]
  },
  {
   "cell_type": "code",
   "execution_count": 3,
   "id": "ea036eb6-647c-4307-beae-394b8d96df57",
   "metadata": {},
   "outputs": [
    {
     "data": {
      "text/plain": [
       "(9704, 11)"
      ]
     },
     "execution_count": 3,
     "metadata": {},
     "output_type": "execute_result"
    }
   ],
   "source": [
    "df = pd.read_csv('https://raw.githubusercontent.com/alexeygrigorev/datasets/master/car_fuel_efficiency.csv')\n",
    "df.shape"
   ]
  },
  {
   "cell_type": "code",
   "execution_count": 4,
   "id": "7e182d29-1a27-42cf-8c6b-b9aecfc7ddfa",
   "metadata": {},
   "outputs": [
    {
     "data": {
      "text/html": [
       "<div>\n",
       "<style scoped>\n",
       "    .dataframe tbody tr th:only-of-type {\n",
       "        vertical-align: middle;\n",
       "    }\n",
       "\n",
       "    .dataframe tbody tr th {\n",
       "        vertical-align: top;\n",
       "    }\n",
       "\n",
       "    .dataframe thead th {\n",
       "        text-align: right;\n",
       "    }\n",
       "</style>\n",
       "<table border=\"1\" class=\"dataframe\">\n",
       "  <thead>\n",
       "    <tr style=\"text-align: right;\">\n",
       "      <th></th>\n",
       "      <th>engine_displacement</th>\n",
       "      <th>num_cylinders</th>\n",
       "      <th>horsepower</th>\n",
       "      <th>vehicle_weight</th>\n",
       "      <th>acceleration</th>\n",
       "      <th>model_year</th>\n",
       "      <th>origin</th>\n",
       "      <th>fuel_type</th>\n",
       "      <th>drivetrain</th>\n",
       "      <th>num_doors</th>\n",
       "      <th>fuel_efficiency_mpg</th>\n",
       "    </tr>\n",
       "  </thead>\n",
       "  <tbody>\n",
       "    <tr>\n",
       "      <th>0</th>\n",
       "      <td>170</td>\n",
       "      <td>3.0</td>\n",
       "      <td>159.0</td>\n",
       "      <td>3413.433759</td>\n",
       "      <td>17.7</td>\n",
       "      <td>2003</td>\n",
       "      <td>Europe</td>\n",
       "      <td>Gasoline</td>\n",
       "      <td>All-wheel drive</td>\n",
       "      <td>0.0</td>\n",
       "      <td>13.231729</td>\n",
       "    </tr>\n",
       "    <tr>\n",
       "      <th>1</th>\n",
       "      <td>130</td>\n",
       "      <td>5.0</td>\n",
       "      <td>97.0</td>\n",
       "      <td>3149.664934</td>\n",
       "      <td>17.8</td>\n",
       "      <td>2007</td>\n",
       "      <td>USA</td>\n",
       "      <td>Gasoline</td>\n",
       "      <td>Front-wheel drive</td>\n",
       "      <td>0.0</td>\n",
       "      <td>13.688217</td>\n",
       "    </tr>\n",
       "    <tr>\n",
       "      <th>2</th>\n",
       "      <td>170</td>\n",
       "      <td>NaN</td>\n",
       "      <td>78.0</td>\n",
       "      <td>3079.038997</td>\n",
       "      <td>15.1</td>\n",
       "      <td>2018</td>\n",
       "      <td>Europe</td>\n",
       "      <td>Gasoline</td>\n",
       "      <td>Front-wheel drive</td>\n",
       "      <td>0.0</td>\n",
       "      <td>14.246341</td>\n",
       "    </tr>\n",
       "    <tr>\n",
       "      <th>3</th>\n",
       "      <td>220</td>\n",
       "      <td>4.0</td>\n",
       "      <td>NaN</td>\n",
       "      <td>2542.392402</td>\n",
       "      <td>20.2</td>\n",
       "      <td>2009</td>\n",
       "      <td>USA</td>\n",
       "      <td>Diesel</td>\n",
       "      <td>All-wheel drive</td>\n",
       "      <td>2.0</td>\n",
       "      <td>16.912736</td>\n",
       "    </tr>\n",
       "    <tr>\n",
       "      <th>4</th>\n",
       "      <td>210</td>\n",
       "      <td>1.0</td>\n",
       "      <td>140.0</td>\n",
       "      <td>3460.870990</td>\n",
       "      <td>14.4</td>\n",
       "      <td>2009</td>\n",
       "      <td>Europe</td>\n",
       "      <td>Gasoline</td>\n",
       "      <td>All-wheel drive</td>\n",
       "      <td>2.0</td>\n",
       "      <td>12.488369</td>\n",
       "    </tr>\n",
       "  </tbody>\n",
       "</table>\n",
       "</div>"
      ],
      "text/plain": [
       "   engine_displacement  num_cylinders  horsepower  vehicle_weight  \\\n",
       "0                  170            3.0       159.0     3413.433759   \n",
       "1                  130            5.0        97.0     3149.664934   \n",
       "2                  170            NaN        78.0     3079.038997   \n",
       "3                  220            4.0         NaN     2542.392402   \n",
       "4                  210            1.0       140.0     3460.870990   \n",
       "\n",
       "   acceleration  model_year  origin fuel_type         drivetrain  num_doors  \\\n",
       "0          17.7        2003  Europe  Gasoline    All-wheel drive        0.0   \n",
       "1          17.8        2007     USA  Gasoline  Front-wheel drive        0.0   \n",
       "2          15.1        2018  Europe  Gasoline  Front-wheel drive        0.0   \n",
       "3          20.2        2009     USA    Diesel    All-wheel drive        2.0   \n",
       "4          14.4        2009  Europe  Gasoline    All-wheel drive        2.0   \n",
       "\n",
       "   fuel_efficiency_mpg  \n",
       "0            13.231729  \n",
       "1            13.688217  \n",
       "2            14.246341  \n",
       "3            16.912736  \n",
       "4            12.488369  "
      ]
     },
     "execution_count": 4,
     "metadata": {},
     "output_type": "execute_result"
    }
   ],
   "source": [
    "df.head()"
   ]
  },
  {
   "cell_type": "code",
   "execution_count": 5,
   "id": "b4b6eaf5-e205-4afc-84ee-8ebdb57de488",
   "metadata": {},
   "outputs": [
    {
     "name": "stdout",
     "output_type": "stream",
     "text": [
      "Column names:\n",
      "['engine_displacement', 'num_cylinders', 'horsepower', 'vehicle_weight', 'acceleration', 'model_year', 'origin', 'fuel_type', 'drivetrain', 'num_doors', 'fuel_efficiency_mpg']\n"
     ]
    }
   ],
   "source": [
    "# Check column names\n",
    "print(\"Column names:\")\n",
    "print(df.columns.tolist())"
   ]
  },
  {
   "cell_type": "markdown",
   "id": "31f01b40-7f93-4e02-82f4-2edb53daf913",
   "metadata": {},
   "source": [
    "## Q2. Records Count"
   ]
  },
  {
   "cell_type": "code",
   "execution_count": 6,
   "id": "a5819296-f882-4368-8d61-0ed3f59ae07f",
   "metadata": {},
   "outputs": [
    {
     "data": {
      "text/plain": [
       "9704"
      ]
     },
     "execution_count": 6,
     "metadata": {},
     "output_type": "execute_result"
    }
   ],
   "source": [
    "len(df)"
   ]
  },
  {
   "cell_type": "markdown",
   "id": "a1ac6ce5-d6e6-4ddb-aaaf-112b1a83f654",
   "metadata": {},
   "source": [
    "## Q3. Fuel Types"
   ]
  },
  {
   "cell_type": "code",
   "execution_count": 7,
   "id": "72af7ea3-ebe0-4447-82f0-2151175230d5",
   "metadata": {},
   "outputs": [
    {
     "data": {
      "text/plain": [
       "2"
      ]
     },
     "execution_count": 7,
     "metadata": {},
     "output_type": "execute_result"
    }
   ],
   "source": [
    "df['fuel_type'].nunique()"
   ]
  },
  {
   "cell_type": "markdown",
   "id": "25202468-1d2b-4041-9aef-0389b2a558e5",
   "metadata": {},
   "source": [
    "## Q4. Missing Values"
   ]
  },
  {
   "cell_type": "code",
   "execution_count": 8,
   "id": "ef0dac76-9aa5-409a-bf55-955691341056",
   "metadata": {},
   "outputs": [
    {
     "data": {
      "text/plain": [
       "np.int64(4)"
      ]
     },
     "execution_count": 8,
     "metadata": {},
     "output_type": "execute_result"
    }
   ],
   "source": [
    "(df.isnull().sum() > 0).sum()"
   ]
  },
  {
   "cell_type": "markdown",
   "id": "5b55f290-6c00-4261-8421-6f854432b202",
   "metadata": {},
   "source": [
    "## Q5. Max Fuel Efficiency from Asia"
   ]
  },
  {
   "cell_type": "code",
   "execution_count": 9,
   "id": "bf80d4a6-70fe-4d00-92d8-706abf9a5f1c",
   "metadata": {},
   "outputs": [
    {
     "name": "stdout",
     "output_type": "stream",
     "text": [
      "Max fuel efficiency from Asia: 23.759122836520497\n"
     ]
    },
    {
     "data": {
      "text/plain": [
       "np.float64(23.759122836520497)"
      ]
     },
     "execution_count": 9,
     "metadata": {},
     "output_type": "execute_result"
    }
   ],
   "source": [
    "# Filter for Asia cars and find max fuel efficiency\n",
    "asia_cars = df[df['origin'] == 'Asia']\n",
    "max_efficiency = asia_cars['fuel_efficiency_mpg'].max()\n",
    "print(f\"Max fuel efficiency from Asia: {max_efficiency}\")\n",
    "max_efficiency"
   ]
  },
  {
   "cell_type": "markdown",
   "id": "ddc5bb7c-3ad1-4ea8-8028-2cff81a006fb",
   "metadata": {},
   "source": [
    "## Q6. Median Horsepower"
   ]
  },
  {
   "cell_type": "code",
   "execution_count": 10,
   "id": "586845ab-c502-4c91-af7e-d2a58c91135f",
   "metadata": {},
   "outputs": [
    {
     "name": "stdout",
     "output_type": "stream",
     "text": [
      "Original median: 149.0\n",
      "Most frequent: 152.0\n",
      "New median: 152.0\n",
      "Changed: True\n"
     ]
    }
   ],
   "source": [
    "# Original median\n",
    "original_median = df['horsepower'].median()\n",
    "print(f\"Original median: {original_median}\")\n",
    "\n",
    "# Most frequent value\n",
    "most_frequent = df['horsepower'].mode()[0]\n",
    "print(f\"Most frequent: {most_frequent}\")\n",
    "\n",
    "# Fill missing values and calculate new median\n",
    "df_filled = df.copy()\n",
    "df_filled['horsepower'] = df_filled['horsepower'].fillna(most_frequent)\n",
    "new_median = df_filled['horsepower'].median()\n",
    "print(f\"New median: {new_median}\")\n",
    "\n",
    "# Check if changed\n",
    "print(f\"Changed: {new_median != original_median}\")"
   ]
  },
  {
   "cell_type": "markdown",
   "id": "61132c9b-68b8-4f2a-b4ca-ce9d5098b5ab",
   "metadata": {},
   "source": [
    "## Q7. Linear Algebra (Linear Regression)"
   ]
  },
  {
   "cell_type": "code",
   "execution_count": 11,
   "id": "bc83c190-41d2-455c-8f2a-3aeb901dddbc",
   "metadata": {},
   "outputs": [
    {
     "name": "stdout",
     "output_type": "stream",
     "text": [
      "Selected data:\n",
      "    vehicle_weight  model_year\n",
      "8      2714.219310        2016\n",
      "12     2783.868974        2010\n",
      "14     3582.687368        2007\n",
      "20     2231.808142        2011\n",
      "21     2659.431451        2016\n",
      "34     2844.227534        2014\n",
      "38     3761.994038        2019\n",
      "\n",
      "X shape: (7, 2)\n",
      "\n",
      "XTX:\n",
      "[[62248334.33150761 41431216.5073268 ]\n",
      " [41431216.5073268  28373339.        ]]\n",
      "\n",
      "XTX inverse:\n",
      "[[ 5.71497081e-07 -8.34509443e-07]\n",
      " [-8.34509443e-07  1.25380877e-06]]\n",
      "\n",
      "y: [1100 1300  800  900 1000 1100 1200]\n",
      "\n",
      "w: [0.01386421 0.5049067 ]\n",
      "\n",
      "Sum of w: 0.5187709081074006\n"
     ]
    }
   ],
   "source": [
    "# Step 1-3: Select Asia cars, specific columns, first 7 rows\n",
    "asia_subset = df[df['origin'] == 'Asia'][['vehicle_weight', 'model_year']].head(7)\n",
    "print(\"Selected data:\")\n",
    "print(asia_subset)\n",
    "\n",
    "# Step 4: Get NumPy array\n",
    "X = asia_subset.values\n",
    "print(f\"\\nX shape: {X.shape}\")\n",
    "\n",
    "# Step 5: Compute XTX\n",
    "XTX = X.T @ X\n",
    "print(f\"\\nXTX:\\n{XTX}\")\n",
    "\n",
    "# Step 6: Invert XTX\n",
    "XTX_inv = np.linalg.inv(XTX)\n",
    "print(f\"\\nXTX inverse:\\n{XTX_inv}\")\n",
    "\n",
    "# Step 7: Create y array\n",
    "y = np.array([1100, 1300, 800, 900, 1000, 1100, 1200])\n",
    "print(f\"\\ny: {y}\")\n",
    "\n",
    "# Step 8: Compute w = (XTX)^(-1) * X.T * y\n",
    "w = XTX_inv @ X.T @ y\n",
    "print(f\"\\nw: {w}\")\n",
    "\n",
    "# Step 9: Sum of all elements\n",
    "w_sum = np.sum(w)\n",
    "print(f\"\\nSum of w: {w_sum}\")"
   ]
  },
  {
   "cell_type": "markdown",
   "id": "00e1add9-03f6-42a7-9b55-d5d5ed9d2ec7",
   "metadata": {},
   "source": [
    "## Summary of Answers"
   ]
  },
  {
   "cell_type": "code",
   "execution_count": null,
   "id": "182dfdd9-7c2d-42aa-bbab-5898c6b2da71",
   "metadata": {},
   "outputs": [],
   "source": []
  }
 ],
 "metadata": {
  "kernelspec": {
   "display_name": "Python 3 (ipykernel)",
   "language": "python",
   "name": "python3"
  },
  "language_info": {
   "codemirror_mode": {
    "name": "ipython",
    "version": 3
   },
   "file_extension": ".py",
   "mimetype": "text/x-python",
   "name": "python",
   "nbconvert_exporter": "python",
   "pygments_lexer": "ipython3",
   "version": "3.13.7"
  }
 },
 "nbformat": 4,
 "nbformat_minor": 5
}
