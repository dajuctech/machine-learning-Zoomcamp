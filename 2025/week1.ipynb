{
 "cells": [
  {
   "cell_type": "markdown",
   "metadata": {},
   "source": [
    "# ML Zoomcamp - Week 1 Homework"
   ]
  },
  {
   "cell_type": "markdown",
   "metadata": {},
   "source": [
    "## Setup"
   ]
  },
  {
   "cell_type": "code",
   "execution_count": null,
   "metadata": {},
   "outputs": [],
   "source": [
    "import pandas as pd\n",
    "import numpy as np"
   ]
  },
  {
   "cell_type": "markdown",
   "metadata": {},
   "source": [
    "## Q1. Pandas Version"
   ]
  },
  {
   "cell_type": "code",
   "execution_count": null,
   "metadata": {},
   "outputs": [],
   "source": [
    "pd.__version__"
   ]
  },
  {
   "cell_type": "markdown",
   "metadata": {},
   "source": [
    "## Load Data"
   ]
  },
  {
   "cell_type": "code",
   "execution_count": null,
   "metadata": {},
   "outputs": [],
   "source": [
    "df = pd.read_csv('https://raw.githubusercontent.com/alexeygrigorev/datasets/master/car_fuel_efficiency.csv')\n",
    "df.shape"
   ]
  },
  {
   "cell_type": "code",
   "execution_count": null,
   "metadata": {},
   "outputs": [],
   "source": [
    "df.head()"
   ]
  },
  {
   "cell_type": "code",
   "execution_count": null,
   "metadata": {},
   "outputs": [],
   "source": [
    "# Check column names\n",
    "print(\"Column names:\")\n",
    "print(df.columns.tolist())"
   ]
  },
  {
   "cell_type": "markdown",
   "metadata": {},
   "source": [
    "## Q2. Records Count"
   ]
  },
  {
   "cell_type": "code",
   "execution_count": null,
   "metadata": {},
   "outputs": [],
   "source": [
    "len(df)"
   ]
  },
  {
   "cell_type": "markdown",
   "metadata": {},
   "source": [
    "## Q3. Fuel Types"
   ]
  },
  {
   "cell_type": "code",
   "execution_count": null,
   "metadata": {},
   "outputs": [],
   "source": [
    "df['fuel_type'].nunique()"
   ]
  },
  {
   "cell_type": "markdown",
   "metadata": {},
   "source": [
    "## Q4. Missing Values"
   ]
  },
  {
   "cell_type": "code",
   "execution_count": null,
   "metadata": {},
   "outputs": [],
   "source": [
    "(df.isnull().sum() > 0).sum()"
   ]
  },
  {
   "cell_type": "markdown",
   "metadata": {},
   "source": [
    "## Q5. Max Fuel Efficiency from Asia"
   ]
  },
  {
   "cell_type": "code",
   "execution_count": null,
   "metadata": {},
   "outputs": [],
   "source": [
    "# Filter for Asia cars and find max fuel efficiency\n",
    "asia_cars = df[df['origin'] == 'Asia']\n",
    "max_efficiency = asia_cars['fuel_efficiency_mpg'].max()\n",
    "print(f\"Max fuel efficiency from Asia: {max_efficiency}\")\n",
    "max_efficiency"
   ]
  },
  {
   "cell_type": "markdown",
   "metadata": {},
   "source": [
    "## Q6. Median Horsepower"
   ]
  },
  {
   "cell_type": "code",
   "execution_count": null,
   "metadata": {},
   "outputs": [],
   "source": [
    "# Original median\n",
    "original_median = df['horsepower'].median()\n",
    "print(f\"Original median: {original_median}\")\n",
    "\n",
    "# Most frequent value\n",
    "most_frequent = df['horsepower'].mode()[0]\n",
    "print(f\"Most frequent: {most_frequent}\")\n",
    "\n",
    "# Fill missing values and calculate new median\n",
    "df_filled = df.copy()\n",
    "df_filled['horsepower'] = df_filled['horsepower'].fillna(most_frequent)\n",
    "new_median = df_filled['horsepower'].median()\n",
    "print(f\"New median: {new_median}\")\n",
    "\n",
    "# Check if changed\n",
    "print(f\"Changed: {new_median != original_median}\")"
   ]
  },
  {
   "cell_type": "markdown",
   "metadata": {},
   "source": [
    "## Q7. Linear Algebra (Linear Regression)"
   ]
  },
  {
   "cell_type": "code",
   "execution_count": null,
   "metadata": {},
   "outputs": [],
   "source": [
    "# Step 1-3: Select Asia cars, specific columns, first 7 rows\n",
    "asia_subset = df[df['origin'] == 'Asia'][['vehicle_weight', 'model_year']].head(7)\n",
    "print(\"Selected data:\")\n",
    "print(asia_subset)\n",
    "\n",
    "# Step 4: Get NumPy array\n",
    "X = asia_subset.values\n",
    "print(f\"\\nX shape: {X.shape}\")\n",
    "\n",
    "# Step 5: Compute XTX\n",
    "XTX = X.T @ X\n",
    "print(f\"\\nXTX:\\n{XTX}\")\n",
    "\n",
    "# Step 6: Invert XTX\n",
    "XTX_inv = np.linalg.inv(XTX)\n",
    "print(f\"\\nXTX inverse:\\n{XTX_inv}\")\n",
    "\n",
    "# Step 7: Create y array\n",
    "y = np.array([1100, 1300, 800, 900, 1000, 1100, 1200])\n",
    "print(f\"\\ny: {y}\")\n",
    "\n",
    "# Step 8: Compute w = (XTX)^(-1) * X.T * y\n",
    "w = XTX_inv @ X.T @ y\n",
    "print(f\"\\nw: {w}\")\n",
    "\n",
    "# Step 9: Sum of all elements\n",
    "w_sum = np.sum(w)\n",
    "print(f\"\\nSum of w: {w_sum}\")"
   ]
  },
  {
   "cell_type": "markdown",
   "metadata": {},
   "source": [
    "## Summary of Answers"
   ]
  },
  {
   "cell_type": "code",
   "execution_count": null,
   "metadata": {},
   "outputs": [],
   "source": [
    "print(\"=== ML ZOOMCAMP WEEK 1 - HOMEWORK ANSWERS ===\")\n",
    "print(\"Execute all cells above first, then check answers:\")\n",
    "print(\"\\nQ1. Pandas version:\", pd.__version__)\n",
    "print(\"Q2. Records count:\", len(df))\n",
    "print(\"Q3. Fuel types:\", df['fuel_type'].nunique())\n",
    "print(\"Q4. Missing values columns:\", (df.isnull().sum() > 0).sum())\n",
    "print(\"Q5. Max fuel efficiency (Asia):\", df[df['origin'] == 'Asia']['fuel_efficiency_mpg'].max())\n",
    "print(\"Q6. Horsepower median changed:\", \"Check output above\")\n",
    "print(\"Q7. Sum of weights:\", \"Check output above\")"
   ]
  }
 ],
 "metadata": {
  "kernelspec": {
   "display_name": "Python 3",
   "language": "python",
   "name": "python3"
  },
  "language_info": {
   "codemirror_mode": {
    "name": "ipython",
    "version": 3
   },
   "file_extension": ".py",
   "mimetype": "text/x-python",
   "name": "python",
   "nbconvert_exporter": "python",
   "pygments_lexer": "ipython3",
   "version": "3.8.5"
  }
 },
 "nbformat": 4,
 "nbformat_minor": 4
}
