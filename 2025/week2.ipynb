{
 "cells": [
  {
   "cell_type": "markdown",
   "id": "11242512-8a2e-456c-aefb-906a8933c3c8",
   "metadata": {},
   "source": [
    "# Week 2 Regression Homework\n",
    "\n",
    "Let me work through this step by step. Need to predict car fuel efficiency using regression."
   ]
  },
  {
   "cell_type": "markdown",
   "id": "214b9ffd-f974-423a-a82d-a3b6baefb7e8",
   "metadata": {},
   "source": [
    "## Setting up"
   ]
  },
  {
   "cell_type": "code",
   "execution_count": 17,
   "id": "c6cd00ca-d252-41a7-a045-b0a474724fd1",
   "metadata": {},
   "outputs": [
    {
     "name": "stdout",
     "output_type": "stream",
     "text": [
      "Libraries imported successfully!\n"
     ]
    }
   ],
   "source": [
    "import pandas as pd\n",
    "import numpy as np\n",
    "import matplotlib.pyplot as plt\n",
    "from sklearn.linear_model import LinearRegression\n",
    "from sklearn.model_selection import train_test_split\n",
    "from sklearn.metrics import mean_squared_error\n",
    "import warnings\n",
    "warnings.filterwarnings('ignore')\n",
    "\n",
    "print(\"Libraries imported successfully!\")"
   ]
  },
  {
   "cell_type": "markdown",
   "id": "5a1de22d-4b79-4e13-af13-65a02bbac200",
   "metadata": {},
   "source": [
    "## Getting the data"
   ]
  },
  {
   "cell_type": "code",
   "execution_count": 24,
   "id": "f15a4c97-06d6-41d8-af71-f170f5e63358",
   "metadata": {},
   "outputs": [
    {
     "data": {
      "text/plain": [
       "(9704, 11)"
      ]
     },
     "execution_count": 24,
     "metadata": {},
     "output_type": "execute_result"
    }
   ],
   "source": [
    "# Download the car data\n",
    "df = pd.read_csv('https://raw.githubusercontent.com/alexeygrigorev/datasets/master/car_fuel_efficiency.csv')\n",
    "\n",
    "df.shape"
   ]
  },
  {
   "cell_type": "code",
   "execution_count": 25,
   "id": "6b7801fa-199d-4cef-a5a8-2ec5248612c0",
   "metadata": {},
   "outputs": [
    {
     "data": {
      "text/html": [
       "<div>\n",
       "<style scoped>\n",
       "    .dataframe tbody tr th:only-of-type {\n",
       "        vertical-align: middle;\n",
       "    }\n",
       "\n",
       "    .dataframe tbody tr th {\n",
       "        vertical-align: top;\n",
       "    }\n",
       "\n",
       "    .dataframe thead th {\n",
       "        text-align: right;\n",
       "    }\n",
       "</style>\n",
       "<table border=\"1\" class=\"dataframe\">\n",
       "  <thead>\n",
       "    <tr style=\"text-align: right;\">\n",
       "      <th></th>\n",
       "      <th>engine_displacement</th>\n",
       "      <th>num_cylinders</th>\n",
       "      <th>horsepower</th>\n",
       "      <th>vehicle_weight</th>\n",
       "      <th>acceleration</th>\n",
       "      <th>model_year</th>\n",
       "      <th>origin</th>\n",
       "      <th>fuel_type</th>\n",
       "      <th>drivetrain</th>\n",
       "      <th>num_doors</th>\n",
       "      <th>fuel_efficiency_mpg</th>\n",
       "    </tr>\n",
       "  </thead>\n",
       "  <tbody>\n",
       "    <tr>\n",
       "      <th>0</th>\n",
       "      <td>170</td>\n",
       "      <td>3.0</td>\n",
       "      <td>159.0</td>\n",
       "      <td>3413.433759</td>\n",
       "      <td>17.7</td>\n",
       "      <td>2003</td>\n",
       "      <td>Europe</td>\n",
       "      <td>Gasoline</td>\n",
       "      <td>All-wheel drive</td>\n",
       "      <td>0.0</td>\n",
       "      <td>13.231729</td>\n",
       "    </tr>\n",
       "    <tr>\n",
       "      <th>1</th>\n",
       "      <td>130</td>\n",
       "      <td>5.0</td>\n",
       "      <td>97.0</td>\n",
       "      <td>3149.664934</td>\n",
       "      <td>17.8</td>\n",
       "      <td>2007</td>\n",
       "      <td>USA</td>\n",
       "      <td>Gasoline</td>\n",
       "      <td>Front-wheel drive</td>\n",
       "      <td>0.0</td>\n",
       "      <td>13.688217</td>\n",
       "    </tr>\n",
       "    <tr>\n",
       "      <th>2</th>\n",
       "      <td>170</td>\n",
       "      <td>NaN</td>\n",
       "      <td>78.0</td>\n",
       "      <td>3079.038997</td>\n",
       "      <td>15.1</td>\n",
       "      <td>2018</td>\n",
       "      <td>Europe</td>\n",
       "      <td>Gasoline</td>\n",
       "      <td>Front-wheel drive</td>\n",
       "      <td>0.0</td>\n",
       "      <td>14.246341</td>\n",
       "    </tr>\n",
       "    <tr>\n",
       "      <th>3</th>\n",
       "      <td>220</td>\n",
       "      <td>4.0</td>\n",
       "      <td>NaN</td>\n",
       "      <td>2542.392402</td>\n",
       "      <td>20.2</td>\n",
       "      <td>2009</td>\n",
       "      <td>USA</td>\n",
       "      <td>Diesel</td>\n",
       "      <td>All-wheel drive</td>\n",
       "      <td>2.0</td>\n",
       "      <td>16.912736</td>\n",
       "    </tr>\n",
       "    <tr>\n",
       "      <th>4</th>\n",
       "      <td>210</td>\n",
       "      <td>1.0</td>\n",
       "      <td>140.0</td>\n",
       "      <td>3460.870990</td>\n",
       "      <td>14.4</td>\n",
       "      <td>2009</td>\n",
       "      <td>Europe</td>\n",
       "      <td>Gasoline</td>\n",
       "      <td>All-wheel drive</td>\n",
       "      <td>2.0</td>\n",
       "      <td>12.488369</td>\n",
       "    </tr>\n",
       "  </tbody>\n",
       "</table>\n",
       "</div>"
      ],
      "text/plain": [
       "   engine_displacement  num_cylinders  horsepower  vehicle_weight  \\\n",
       "0                  170            3.0       159.0     3413.433759   \n",
       "1                  130            5.0        97.0     3149.664934   \n",
       "2                  170            NaN        78.0     3079.038997   \n",
       "3                  220            4.0         NaN     2542.392402   \n",
       "4                  210            1.0       140.0     3460.870990   \n",
       "\n",
       "   acceleration  model_year  origin fuel_type         drivetrain  num_doors  \\\n",
       "0          17.7        2003  Europe  Gasoline    All-wheel drive        0.0   \n",
       "1          17.8        2007     USA  Gasoline  Front-wheel drive        0.0   \n",
       "2          15.1        2018  Europe  Gasoline  Front-wheel drive        0.0   \n",
       "3          20.2        2009     USA    Diesel    All-wheel drive        2.0   \n",
       "4          14.4        2009  Europe  Gasoline    All-wheel drive        2.0   \n",
       "\n",
       "   fuel_efficiency_mpg  \n",
       "0            13.231729  \n",
       "1            13.688217  \n",
       "2            14.246341  \n",
       "3            16.912736  \n",
       "4            12.488369  "
      ]
     },
     "execution_count": 25,
     "metadata": {},
     "output_type": "execute_result"
    }
   ],
   "source": [
    "# Let's see what we're working with\n",
    "df.head()"
   ]
  },
  {
   "cell_type": "code",
   "execution_count": 26,
   "id": "e5cd4d42-5c52-4f50-86c1-7466c89257de",
   "metadata": {},
   "outputs": [
    {
     "name": "stdout",
     "output_type": "stream",
     "text": [
      "Now we have 9704 rows and 5 columns\n"
     ]
    },
    {
     "data": {
      "text/html": [
       "<div>\n",
       "<style scoped>\n",
       "    .dataframe tbody tr th:only-of-type {\n",
       "        vertical-align: middle;\n",
       "    }\n",
       "\n",
       "    .dataframe tbody tr th {\n",
       "        vertical-align: top;\n",
       "    }\n",
       "\n",
       "    .dataframe thead th {\n",
       "        text-align: right;\n",
       "    }\n",
       "</style>\n",
       "<table border=\"1\" class=\"dataframe\">\n",
       "  <thead>\n",
       "    <tr style=\"text-align: right;\">\n",
       "      <th></th>\n",
       "      <th>engine_displacement</th>\n",
       "      <th>horsepower</th>\n",
       "      <th>vehicle_weight</th>\n",
       "      <th>model_year</th>\n",
       "      <th>fuel_efficiency_mpg</th>\n",
       "    </tr>\n",
       "  </thead>\n",
       "  <tbody>\n",
       "    <tr>\n",
       "      <th>0</th>\n",
       "      <td>170</td>\n",
       "      <td>159.0</td>\n",
       "      <td>3413.433759</td>\n",
       "      <td>2003</td>\n",
       "      <td>13.231729</td>\n",
       "    </tr>\n",
       "    <tr>\n",
       "      <th>1</th>\n",
       "      <td>130</td>\n",
       "      <td>97.0</td>\n",
       "      <td>3149.664934</td>\n",
       "      <td>2007</td>\n",
       "      <td>13.688217</td>\n",
       "    </tr>\n",
       "    <tr>\n",
       "      <th>2</th>\n",
       "      <td>170</td>\n",
       "      <td>78.0</td>\n",
       "      <td>3079.038997</td>\n",
       "      <td>2018</td>\n",
       "      <td>14.246341</td>\n",
       "    </tr>\n",
       "    <tr>\n",
       "      <th>3</th>\n",
       "      <td>220</td>\n",
       "      <td>NaN</td>\n",
       "      <td>2542.392402</td>\n",
       "      <td>2009</td>\n",
       "      <td>16.912736</td>\n",
       "    </tr>\n",
       "    <tr>\n",
       "      <th>4</th>\n",
       "      <td>210</td>\n",
       "      <td>140.0</td>\n",
       "      <td>3460.870990</td>\n",
       "      <td>2009</td>\n",
       "      <td>12.488369</td>\n",
       "    </tr>\n",
       "  </tbody>\n",
       "</table>\n",
       "</div>"
      ],
      "text/plain": [
       "   engine_displacement  horsepower  vehicle_weight  model_year  \\\n",
       "0                  170       159.0     3413.433759        2003   \n",
       "1                  130        97.0     3149.664934        2007   \n",
       "2                  170        78.0     3079.038997        2018   \n",
       "3                  220         NaN     2542.392402        2009   \n",
       "4                  210       140.0     3460.870990        2009   \n",
       "\n",
       "   fuel_efficiency_mpg  \n",
       "0            13.231729  \n",
       "1            13.688217  \n",
       "2            14.246341  \n",
       "3            16.912736  \n",
       "4            12.488369  "
      ]
     },
     "execution_count": 26,
     "metadata": {},
     "output_type": "execute_result"
    }
   ],
   "source": [
    "# The homework says to use only these columns\n",
    "cols = ['engine_displacement', 'horsepower', 'vehicle_weight', 'model_year', 'fuel_efficiency_mpg']\n",
    "df = df[cols]\n",
    "\n",
    "print(f\"Now we have {df.shape[0]} rows and {df.shape[1]} columns\")\n",
    "df.head()"
   ]
  },
  {
   "cell_type": "markdown",
   "id": "61a7f81d-ebff-4029-8828-5d0e6f51643b",
   "metadata": {},
   "source": [
    "## EDA - looking at the target variable"
   ]
  },
  {
   "cell_type": "code",
   "execution_count": 27,
   "id": "e98c7d3d-8fb9-484b-9a4f-38d07f0acc08",
   "metadata": {},
   "outputs": [
    {
     "data": {
      "image/png": "[encoded data removed]",
      "text/plain": [
       "<Figure size 640x480 with 1 Axes>"
      ]
     },
     "metadata": {},
     "output_type": "display_data"
    }
   ],
   "source": [
    "# Let's check out fuel efficiency - this is what we want to predict\n",
    "df['fuel_efficiency_mpg'].hist(bins=50)\n",
    "plt.title('Fuel Efficiency Distribution')\n",
    "plt.show()"
   ]
  },
  {
   "cell_type": "code",
   "execution_count": 53,
   "id": "58238051-dc8c-4aec-b65c-f67da481d65a",
   "metadata": {},
   "outputs": [
    {
     "name": "stdout",
     "output_type": "stream",
     "text": [
      "Fuel efficiency stats:\n",
      "Mean: 15.0\n",
      "The history saving thread hit an unexpected error (OperationalError('attempt to write a readonly database')).History will not be written to the database.\n",
      "Median: 15.0\n",
      "Max: 26.0\n"
     ]
    },
    {
     "data": {
      "image/png": "[encoded data removed]",
      "text/plain": [
       "<Figure size 640x480 with 1 Axes>"
      ]
     },
     "metadata": {},
     "output_type": "display_data"
    }
   ],
   "source": [
    "# Some basic stats\n",
    "print(\"Fuel efficiency stats:\")\n",
    "print(f\"Mean: {df['fuel_efficiency_mpg'].mean():.1f}\")\n",
    "print(f\"Median: {df['fuel_efficiency_mpg'].median():.1f}\")\n",
    "print(f\"Max: {df['fuel_efficiency_mpg'].max():.1f}\")\n",
    "\n",
    "# Does it have a long tail? Let me check visually\n",
    "plt.boxplot(df['fuel_efficiency_mpg'])\n",
    "plt.ylabel('MPG')\n",
    "plt.title('Boxplot - checking for outliers/tail')\n",
    "plt.show()\n",
    "\n",
    "# there are some cars with really high efficiency on the right side"
   ]
  },
  {
   "cell_type": "markdown",
   "id": "ca21e384-f184-4d40-beec-ad9bd6926ecf",
   "metadata": {},
   "source": [
    "## Q1 - Missing values"
   ]
  },
  {
   "cell_type": "code",
   "execution_count": 29,
   "id": "c7fe039b-fe03-4c17-9018-ef50e01679d3",
   "metadata": {},
   "outputs": [
    {
     "data": {
      "text/plain": [
       "engine_displacement      0\n",
       "horsepower             708\n",
       "vehicle_weight           0\n",
       "model_year               0\n",
       "fuel_efficiency_mpg      0\n",
       "dtype: int64"
      ]
     },
     "execution_count": 29,
     "metadata": {},
     "output_type": "execute_result"
    }
   ],
   "source": [
    "# Let me check which columns have missing data\n",
    "df.isnull().sum()"
   ]
  },
  {
   "cell_type": "code",
   "execution_count": 54,
   "id": "502bea44-7e61-431c-8aa7-53cdcd838cc1",
   "metadata": {},
   "outputs": [
    {
     "name": "stdout",
     "output_type": "stream",
     "text": [
      "Horsepower missing: 708 out of 9704\n",
      "That's 7.3% missing\n"
     ]
    }
   ],
   "source": [
    "# horsepower has some missing values\n",
    "print(f\"Horsepower missing: {df['horsepower'].isnull().sum()} out of {len(df)}\")\n",
    "print(f\"That's {df['horsepower'].isnull().sum() / len(df) * 100:.1f}% missing\")\n",
    "\n",
    "# Answer: horsepower"
   ]
  },
  {
   "cell_type": "markdown",
   "id": "b040f229-da83-4f32-90d2-f445b873a4cd",
   "metadata": {},
   "source": [
    "## Q2 - Median horsepower"
   ]
  },
  {
   "cell_type": "code",
   "execution_count": 31,
   "id": "2df0c4ac-2403-46ad-b74b-7df444103efe",
   "metadata": {},
   "outputs": [
    {
     "data": {
      "text/plain": [
       "np.float64(149.0)"
      ]
     },
     "execution_count": 31,
     "metadata": {},
     "output_type": "execute_result"
    }
   ],
   "source": [
    "# What's the median horsepower?\n",
    "df['horsepower'].median()"
   ]
  },
  {
   "cell_type": "code",
   "execution_count": 32,
   "id": "829295c6-e253-48e7-a637-80aab4b5d069",
   "metadata": {},
   "outputs": [
    {
     "data": {
      "text/plain": [
       "count    8996.000000\n",
       "mean      149.657292\n",
       "std        29.879555\n",
       "min        37.000000\n",
       "25%       130.000000\n",
       "50%       149.000000\n",
       "75%       170.000000\n",
       "max       271.000000\n",
       "Name: horsepower, dtype: float64"
      ]
     },
     "execution_count": 32,
     "metadata": {},
     "output_type": "execute_result"
    }
   ],
   "source": [
    "# Let me double check this\n",
    "df['horsepower'].describe()"
   ]
  },
  {
   "cell_type": "markdown",
   "id": "83524b82-b163-4602-8ab9-231a1ce29202",
   "metadata": {},
   "source": [
    "# 149.0 is the median (50th percentile)\n",
    "# Answer: 149"
   ]
  },
  {
   "cell_type": "markdown",
   "id": "20074c94-7c09-42e8-8e93-36d75f3cecf7",
   "metadata": {},
   "source": [
    "## Splitting the data\n",
    "\n",
    "Now I need to split into train/val/test with 60/20/20 split using seed 42"
   ]
  },
  {
   "cell_type": "code",
   "execution_count": 33,
   "id": "e053d591-c5e8-4fd0-9f66-b85f1746ad99",
   "metadata": {},
   "outputs": [],
   "source": [
    "# First shuffle with seed 42\n",
    "np.random.seed(42)\n",
    "n = len(df)\n",
    "idx = np.arange(n)\n",
    "np.random.shuffle(idx)\n",
    "\n",
    "df_shuffled = df.iloc[idx].reset_index(drop=True)"
   ]
  },
  {
   "cell_type": "code",
   "execution_count": 34,
   "id": "6797cea8-519a-4e33-8ce1-6583257e85a5",
   "metadata": {},
   "outputs": [
    {
     "name": "stdout",
     "output_type": "stream",
     "text": [
      "Train: 5822, Val: 1940, Test: 1942\n"
     ]
    }
   ],
   "source": [
    "# Now split 60/20/20\n",
    "n_train = int(0.6 * n)\n",
    "n_val = int(0.2 * n)\n",
    "\n",
    "df_train = df_shuffled.iloc[:n_train].copy()\n",
    "df_val = df_shuffled.iloc[n_train:n_train+n_val].copy() \n",
    "df_test = df_shuffled.iloc[n_train+n_val:].copy()\n",
    "\n",
    "print(f\"Train: {len(df_train)}, Val: {len(df_val)}, Test: {len(df_test)}\")"
   ]
  },
  {
   "cell_type": "code",
   "execution_count": 35,
   "id": "22a5d256-2649-48b7-8bff-1423d3f0a74e",
   "metadata": {},
   "outputs": [
    {
     "name": "stdout",
     "output_type": "stream",
     "text": [
      "Data split complete\n"
     ]
    }
   ],
   "source": [
    "# Separate X and y\n",
    "features = ['engine_displacement', 'horsepower', 'vehicle_weight', 'model_year']\n",
    "target = 'fuel_efficiency_mpg'\n",
    "\n",
    "X_train = df_train[features]\n",
    "y_train = df_train[target]\n",
    "\n",
    "X_val = df_val[features]\n",
    "y_val = df_val[target]\n",
    "\n",
    "X_test = df_test[features]\n",
    "y_test = df_test[target]\n",
    "\n",
    "print(\"Data split complete\")"
   ]
  },
  {
   "cell_type": "markdown",
   "id": "ecac0122-8cb8-4cc6-ae49-2031dd23b159",
   "metadata": {},
   "source": [
    "## Q3 - Dealing with missing values\n",
    "\n",
    "I need to compare filling NAs with 0 vs mean and see which gives better RMSE. First let me implement the linear regression from scratch like in the lectures."
   ]
  },
  {
   "cell_type": "code",
   "execution_count": 36,
   "id": "d6f7e249-0d3d-4a2c-bb6b-08b2447ee895",
   "metadata": {},
   "outputs": [],
   "source": [
    "# Normal equation implementation from the lectures\n",
    "def train_linear_regression(X, y):\n",
    "    ones = np.ones(X.shape[0])\n",
    "    X = np.column_stack([ones, X])\n",
    "    \n",
    "    XTX = X.T.dot(X)\n",
    "    XTX_inv = np.linalg.inv(XTX)\n",
    "    w = XTX_inv.dot(X.T).dot(y)\n",
    "    \n",
    "    return w\n",
    "\n",
    "def predict(X, w):\n",
    "    ones = np.ones(X.shape[0])\n",
    "    X = np.column_stack([ones, X])\n",
    "    return X.dot(w)\n",
    "\n",
    "def rmse(y_true, y_pred):\n",
    "    return np.sqrt(np.mean((y_true - y_pred) ** 2))"
   ]
  },
  {
   "cell_type": "code",
   "execution_count": 37,
   "id": "f7130b1e-57f1-4a1c-b13a-d533c3aca962",
   "metadata": {},
   "outputs": [
    {
     "name": "stdout",
     "output_type": "stream",
     "text": [
      "Mean horsepower in training: 149.5\n"
     ]
    }
   ],
   "source": [
    "# First, what's the mean horsepower in training data?\n",
    "mean_hp = X_train['horsepower'].mean()\n",
    "print(f\"Mean horsepower in training: {mean_hp:.1f}\")"
   ]
  },
  {
   "cell_type": "code",
   "execution_count": 38,
   "id": "b57bd2fb-6675-4baa-bfcb-b047684219ad",
   "metadata": {},
   "outputs": [
    {
     "name": "stdout",
     "output_type": "stream",
     "text": [
      "RMSE with zero fill: 0.52\n"
     ]
    }
   ],
   "source": [
    "# Option 1: Fill with 0\n",
    "X_train_zero = X_train.fillna(0)\n",
    "X_val_zero = X_val.fillna(0)\n",
    "\n",
    "w = train_linear_regression(X_train_zero, y_train)\n",
    "y_pred = predict(X_val_zero, w)\n",
    "rmse_zero = rmse(y_val, y_pred)\n",
    "\n",
    "print(f\"RMSE with zero fill: {round(rmse_zero, 2)}\")"
   ]
  },
  {
   "cell_type": "code",
   "execution_count": 39,
   "id": "d4b709d7-9fbe-438c-9470-1125a797452c",
   "metadata": {},
   "outputs": [
    {
     "name": "stdout",
     "output_type": "stream",
     "text": [
      "RMSE with mean fill: 0.46\n"
     ]
    }
   ],
   "source": [
    "# Option 2: Fill with mean \n",
    "X_train_mean = X_train.fillna(mean_hp)\n",
    "X_val_mean = X_val.fillna(mean_hp)\n",
    "\n",
    "w = train_linear_regression(X_train_mean, y_train)\n",
    "y_pred = predict(X_val_mean, w)\n",
    "rmse_mean = rmse(y_val, y_pred)\n",
    "\n",
    "print(f\"RMSE with mean fill: {round(rmse_mean, 2)}\")"
   ]
  },
  {
   "cell_type": "code",
   "execution_count": 40,
   "id": "f093bff6-48a5-4bd8-9956-1b68175a0c2f",
   "metadata": {},
   "outputs": [
    {
     "name": "stdout",
     "output_type": "stream",
     "text": [
      "Mean filling is better\n",
      "Zero: 0.52, Mean: 0.46\n"
     ]
    }
   ],
   "source": [
    "# Compare them\n",
    "if rmse_zero < rmse_mean:\n",
    "    print(\"Zero filling is better\")\n",
    "elif rmse_mean < rmse_zero:\n",
    "    print(\"Mean filling is better\") \n",
    "else:\n",
    "    print(\"They're the same\")\n",
    "    \n",
    "print(f\"Zero: {round(rmse_zero, 2)}, Mean: {round(rmse_mean, 2)}\")\n",
    "\n",
    "# Answer: depends on the actual values above"
   ]
  },
  {
   "cell_type": "markdown",
   "id": "c1fe8b88-6a42-4a1a-970d-39add3f7c602",
   "metadata": {},
   "source": [
    "## Q4 - Regularization\n",
    "\n",
    "Now I need to try regularized regression with different values of r. The question says to fill NAs with 0."
   ]
  },
  {
   "cell_type": "code",
   "execution_count": 42,
   "id": "5624ce97-3979-4d37-89a3-08d1bffb605a",
   "metadata": {},
   "outputs": [],
   "source": [
    "# Regularized version - adds r * I to XTX\n",
    "def train_linear_regression_reg(X, y, r=0.0):\n",
    "    ones = np.ones(X.shape[0])\n",
    "    X = np.column_stack([ones, X])\n",
    "    \n",
    "    XTX = X.T.dot(X)\n",
    "    XTX = XTX + r * np.eye(XTX.shape[0])  # regularization term\n",
    "    \n",
    "    XTX_inv = np.linalg.inv(XTX)\n",
    "    w = XTX_inv.dot(X.T).dot(y)\n",
    "    \n",
    "    return w"
   ]
  },
  {
   "cell_type": "code",
   "execution_count": 43,
   "id": "086acf9c-5f33-40fd-9023-489316a1ccf7",
   "metadata": {},
   "outputs": [
    {
     "name": "stdout",
     "output_type": "stream",
     "text": [
      "r=0: RMSE = 0.52\n",
      "r=0.01: RMSE = 0.52\n",
      "r=0.1: RMSE = 0.52\n",
      "r=1: RMSE = 0.52\n",
      "r=5: RMSE = 0.52\n",
      "r=10: RMSE = 0.52\n",
      "r=100: RMSE = 0.52\n"
     ]
    }
   ],
   "source": [
    "# Try different r values\n",
    "r_values = [0, 0.01, 0.1, 1, 5, 10, 100]\n",
    "\n",
    "# Use zero-filled data\n",
    "X_train_zero = X_train.fillna(0)\n",
    "X_val_zero = X_val.fillna(0)\n",
    "\n",
    "results = []\n",
    "for r in r_values:\n",
    "    w = train_linear_regression_reg(X_train_zero, y_train, r=r)\n",
    "    y_pred = predict(X_val_zero, w)\n",
    "    score = rmse(y_val, y_pred)\n",
    "    results.append((r, round(score, 2)))\n",
    "    print(f\"r={r}: RMSE = {round(score, 2)}\")"
   ]
  },
  {
   "cell_type": "code",
   "execution_count": 44,
   "id": "89437e8a-fa52-404d-9508-fb0479971caf",
   "metadata": {},
   "outputs": [
    {
     "name": "stdout",
     "output_type": "stream",
     "text": [
      "Best r: 0 with RMSE: 0.52\n",
      "Final answer: 0\n"
     ]
    }
   ],
   "source": [
    "# Find the best one\n",
    "best_rmse = min(results, key=lambda x: x[1])\n",
    "print(f\"Best r: {best_rmse[0]} with RMSE: {best_rmse[1]}\")\n",
    "\n",
    "# If there are ties, pick the smallest r\n",
    "best_score = best_rmse[1]\n",
    "best_r_options = [r for r, score in results if score == best_score]\n",
    "final_r = min(best_r_options)\n",
    "print(f\"Final answer: {final_r}\")"
   ]
  },
  {
   "cell_type": "markdown",
   "id": "c43d2d5f-dd8b-4e36-bc02-45362e4f2a25",
   "metadata": {},
   "source": [
    "## Q5 - Seed stability \n",
    "\n",
    "Need to check how much the seed affects the results. Try seeds 0-9 and see how much variance there is."
   ]
  },
  {
   "cell_type": "code",
   "execution_count": 52,
   "id": "5f7fe8ca-4e3e-4b21-aa93-1145c67e12d2",
   "metadata": {},
   "outputs": [],
   "source": [
    "# create a function to do the split and training for each seed\n",
    "def evaluate_with_seed(data, seed_val):\n",
    "    np.random.seed(seed_val)\n",
    "    n = len(data)\n",
    "    idx = np.arange(n)\n",
    "    np.random.shuffle(idx)\n",
    "    shuffled = data.iloc[idx].reset_index(drop=True)\n",
    "    \n",
    "    # Same 60/20/20 split\n",
    "    n_train = int(0.6 * n)\n",
    "    n_val = int(0.2 * n)\n",
    "    \n",
    "    train_data = shuffled.iloc[:n_train]\n",
    "    val_data = shuffled.iloc[n_train:n_train+n_val]\n",
    "    \n",
    "    # Fill with 0 and train\n",
    "    X_tr = train_data[features].fillna(0)\n",
    "    y_tr = train_data[target]\n",
    "    X_v = val_data[features].fillna(0)\n",
    "    y_v = val_data[target]\n",
    "    \n",
    "    w = train_linear_regression(X_tr, y_tr)\n",
    "    pred = predict(X_v, w)\n",
    "    \n",
    "    return rmse(y_v, pred)"
   ]
  },
  {
   "cell_type": "code",
   "execution_count": 46,
   "id": "b0e9c7f5-b14f-4d6f-b9be-abcb01d85997",
   "metadata": {},
   "outputs": [
    {
     "name": "stdout",
     "output_type": "stream",
     "text": [
      "Seed 0: 0.521099\n",
      "Seed 1: 0.521842\n",
      "Seed 2: 0.523038\n",
      "Seed 3: 0.516122\n",
      "Seed 4: 0.511187\n",
      "Seed 5: 0.528683\n",
      "Seed 6: 0.532242\n",
      "Seed 7: 0.509526\n",
      "Seed 8: 0.514908\n",
      "Seed 9: 0.513133\n"
     ]
    }
   ],
   "source": [
    "# Try seeds 0 through 9\n",
    "seeds = [0, 1, 2, 3, 4, 5, 6, 7, 8, 9]\n",
    "scores = []\n",
    "\n",
    "for s in seeds:\n",
    "    score = evaluate_with_seed(df, s)\n",
    "    scores.append(score)\n",
    "    print(f\"Seed {s}: {score:.6f}\")"
   ]
  },
  {
   "cell_type": "code",
   "execution_count": 47,
   "id": "bfc5fba3-e1ec-4f9a-86d8-5b9e74edfc23",
   "metadata": {},
   "outputs": [
    {
     "name": "stdout",
     "output_type": "stream",
     "text": [
      "\n",
      "Standard deviation: 0.007\n",
      "Min: 0.509526\n",
      "Max: 0.532242\n",
      "Range: 0.022716\n"
     ]
    }
   ],
   "source": [
    "# Calculate standard deviation\n",
    "std_dev = np.std(scores)\n",
    "print(f\"\\nStandard deviation: {round(std_dev, 3)}\")\n",
    "\n",
    "# Let me also check the range\n",
    "print(f\"Min: {min(scores):.6f}\")\n",
    "print(f\"Max: {max(scores):.6f}\")\n",
    "print(f\"Range: {max(scores) - min(scores):.6f}\")"
   ]
  },
  {
   "cell_type": "markdown",
   "id": "131ce907-b5c4-4d08-af1c-3d6d4ed2753f",
   "metadata": {},
   "source": [
    "## Q6 - Final test\n",
    "\n",
    "Now for the final test: use seed 9, combine train+val, and test with r=0.001"
   ]
  },
  {
   "cell_type": "code",
   "execution_count": 48,
   "id": "c3ec0398-3383-47c2-9c61-a4b98d78edfd",
   "metadata": {},
   "outputs": [
    {
     "name": "stdout",
     "output_type": "stream",
     "text": [
      "Sizes: 5822, 1940, 1942\n"
     ]
    }
   ],
   "source": [
    "# Split with seed 9 this time\n",
    "np.random.seed(9)\n",
    "n = len(df)\n",
    "idx = np.arange(n)\n",
    "np.random.shuffle(idx)\n",
    "df_final = df.iloc[idx].reset_index(drop=True)\n",
    "\n",
    "# Same split\n",
    "n_train = int(0.6 * n)\n",
    "n_val = int(0.2 * n)\n",
    "\n",
    "train_final = df_final.iloc[:n_train]\n",
    "val_final = df_final.iloc[n_train:n_train+n_val]\n",
    "test_final = df_final.iloc[n_train+n_val:]\n",
    "\n",
    "print(f\"Sizes: {len(train_final)}, {len(val_final)}, {len(test_final)}\")"
   ]
  },
  {
   "cell_type": "code",
   "execution_count": 49,
   "id": "209f0304-cb52-4641-a7de-29e3ad182b2d",
   "metadata": {},
   "outputs": [
    {
     "name": "stdout",
     "output_type": "stream",
     "text": [
      "Combined training size: 7762\n",
      "Test size: 1942\n"
     ]
    }
   ],
   "source": [
    "# Combine train and validation for final training\n",
    "combined_data = pd.concat([train_final, val_final]).reset_index(drop=True)\n",
    "\n",
    "X_combined = combined_data[features].fillna(0)\n",
    "y_combined = combined_data[target]\n",
    "\n",
    "X_test_final = test_final[features].fillna(0) \n",
    "y_test_final = test_final[target]\n",
    "\n",
    "print(f\"Combined training size: {len(X_combined)}\")\n",
    "print(f\"Test size: {len(X_test_final)}\")"
   ]
  },
  {
   "cell_type": "code",
   "execution_count": 50,
   "id": "24c2bd26-7bb9-45c5-8804-8243759cdd05",
   "metadata": {},
   "outputs": [
    {
     "name": "stdout",
     "output_type": "stream",
     "text": [
      "RMSE on test set: 0.515504\n",
      "Closest option: 0.515\n",
      "My result: 0.516\n"
     ]
    }
   ],
   "source": [
    "# Train with r=0.001\n",
    "w_final = train_linear_regression_reg(X_combined, y_combined, r=0.001)\n",
    "y_pred_test = predict(X_test_final, w_final)\n",
    "final_rmse = rmse(y_test_final, y_pred_test)\n",
    "\n",
    "print(f\"RMSE on test set: {final_rmse:.6f}\")\n",
    "\n",
    "# Check against the options\n",
    "options = [0.15, 0.515, 5.15, 51.5]\n",
    "differences = [abs(final_rmse - opt) for opt in options]\n",
    "closest_idx = differences.index(min(differences))\n",
    "closest = options[closest_idx]\n",
    "\n",
    "print(f\"Closest option: {closest}\")\n",
    "print(f\"My result: {final_rmse:.3f}\")"
   ]
  },
  {
   "cell_type": "code",
   "execution_count": null,
   "id": "752587f3-33f1-4f1b-ba71-7262b1d73e55",
   "metadata": {},
   "outputs": [],
   "source": []
  },
  {
   "cell_type": "code",
   "execution_count": null,
   "id": "33d8a783-3ed0-400e-bab9-fb57204c4897",
   "metadata": {},
   "outputs": [],
   "source": []
  },
  {
   "cell_type": "code",
   "execution_count": null,
   "id": "b2662b71-d810-43fc-b047-8ff50f64549a",
   "metadata": {},
   "outputs": [],
   "source": []
  }
 ],
 "metadata": {
  "kernelspec": {
   "display_name": "Python 3 (ipykernel)",
   "language": "python",
   "name": "python3"
  },
  "language_info": {
   "codemirror_mode": {
    "name": "ipython",
    "version": 3
   },
   "file_extension": ".py",
   "mimetype": "text/x-python",
   "name": "python",
   "nbconvert_exporter": "python",
   "pygments_lexer": "ipython3",
   "version": "3.13.7"
  }
 },
 "nbformat": 4,
 "nbformat_minor": 5
}
